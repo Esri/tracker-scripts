{
 "cells": [
  {
   "cell_type": "markdown",
   "metadata": {},
   "source": [
    "# Quickstart Guide\n",
    "\n",
    "This guide will demonstrates how to quickly:\n",
    "- Add users from a CSV file to your organization\n",
    "- Assign each user a Tracker for ArcGIS License\n",
    "- Create a track view that includes mobile users and track viewers\n",
    "- Generate a QR Code for quick sign in on the Android and iOS apps"
   ]
  },
  {
   "cell_type": "code",
   "execution_count": 1,
   "metadata": {},
   "outputs": [],
   "source": [
    "from arcgis.gis import GIS\n",
    "from arcgis.apps.tracker import TrackView\n",
    "from arcgis.apps import build_tracker_url\n",
    "import csv\n",
    "import pandas as pd\n",
    "import pyqrcode\n",
    "\n",
    "admin_username = 'admin'\n",
    "admin_password = 'password'\n",
    "org = 'https://server.domain.com/webadapter'\n",
    "users_csv = 'users.csv'\n",
    "track_view_name = \"Track View 1\"\n",
    "\n",
    "gis = GIS(org, admin_username, admin_password, verify_cert=False)"
   ]
  },
  {
   "cell_type": "markdown",
   "metadata": {},
   "source": [
    "First we'll read the CSV file using pandas"
   ]
  },
  {
   "cell_type": "code",
   "execution_count": 2,
   "metadata": {},
   "outputs": [
    {
     "data": {
      "text/html": [
       "<div>\n",
       "<style scoped>\n",
       "    .dataframe tbody tr th:only-of-type {\n",
       "        vertical-align: middle;\n",
       "    }\n",
       "\n",
       "    .dataframe tbody tr th {\n",
       "        vertical-align: top;\n",
       "    }\n",
       "\n",
       "    .dataframe thead th {\n",
       "        text-align: right;\n",
       "    }\n",
       "</style>\n",
       "<table border=\"1\" class=\"dataframe\">\n",
       "  <thead>\n",
       "    <tr style=\"text-align: right;\">\n",
       "      <th></th>\n",
       "      <th>Email</th>\n",
       "      <th>First Name</th>\n",
       "      <th>Last Name</th>\n",
       "      <th>Username</th>\n",
       "      <th>Password</th>\n",
       "      <th>Role</th>\n",
       "      <th>User Type</th>\n",
       "      <th>Track Viewer</th>\n",
       "    </tr>\n",
       "  </thead>\n",
       "  <tbody>\n",
       "    <tr>\n",
       "      <th>0</th>\n",
       "      <td>myemail@gmail.com</td>\n",
       "      <td>Jane</td>\n",
       "      <td>Doe</td>\n",
       "      <td>janedoe</td>\n",
       "      <td>password1</td>\n",
       "      <td>Viewer</td>\n",
       "      <td>Viewer</td>\n",
       "      <td>No</td>\n",
       "    </tr>\n",
       "    <tr>\n",
       "      <th>1</th>\n",
       "      <td>myemail2@gmail.com</td>\n",
       "      <td>John</td>\n",
       "      <td>Doe</td>\n",
       "      <td>johndoe</td>\n",
       "      <td>password1</td>\n",
       "      <td>Viewer</td>\n",
       "      <td>Viewer</td>\n",
       "      <td>Yes</td>\n",
       "    </tr>\n",
       "    <tr>\n",
       "      <th>2</th>\n",
       "      <td>myemail3@gmail.com</td>\n",
       "      <td>Bill</td>\n",
       "      <td>Doe</td>\n",
       "      <td>billdoe</td>\n",
       "      <td>password1</td>\n",
       "      <td>Viewer</td>\n",
       "      <td>Viewer</td>\n",
       "      <td>Yes</td>\n",
       "    </tr>\n",
       "  </tbody>\n",
       "</table>\n",
       "</div>"
      ],
      "text/plain": [
       "                Email First Name Last Name Username   Password    Role  \\\n",
       "0   myemail@gmail.com       Jane       Doe  janedoe  password1  Viewer   \n",
       "1  myemail2@gmail.com       John       Doe  johndoe  password1  Viewer   \n",
       "2  myemail3@gmail.com       Bill       Doe  billdoe  password1  Viewer   \n",
       "\n",
       "  User Type Track Viewer  \n",
       "0    Viewer           No  \n",
       "1    Viewer          Yes  \n",
       "2    Viewer          Yes  "
      ]
     },
     "execution_count": 2,
     "metadata": {},
     "output_type": "execute_result"
    }
   ],
   "source": [
    "df = pd.read_csv(users_csv)\n",
    "df"
   ]
  },
  {
   "cell_type": "markdown",
   "metadata": {},
   "source": [
    "### Create users if necessary\n",
    "If the user in the CSV file does not exist in the organization, we'll add them"
   ]
  },
  {
   "cell_type": "code",
   "execution_count": 3,
   "metadata": {},
   "outputs": [],
   "source": [
    "users = []\n",
    "for index, row in df.iterrows():\n",
    "    u = gis.users.get(row[\"Username\"])\n",
    "    if u is None:\n",
    "        users.append(gis.users.create(\n",
    "            username=row[\"Username\"], \n",
    "            password=row[\"Password\"],\n",
    "            firstname=row[\"First Name\"],\n",
    "            lastname=row[\"Last Name\"],\n",
    "            email=row[\"Email\"],\n",
    "            role=row[\"Role\"],\n",
    "            user_type=row[\"User Type\"]\n",
    "        ))\n",
    "    else:\n",
    "        users.append(u)"
   ]
  },
  {
   "cell_type": "markdown",
   "metadata": {},
   "source": [
    "Each user is then assigned a Tracker for ArcGIS license so that they can use the mobile app"
   ]
  },
  {
   "cell_type": "code",
   "execution_count": 4,
   "metadata": {},
   "outputs": [],
   "source": [
    "tracker_license = gis.admin.license.get('Tracker for ArcGIS')\n",
    "for user in users:\n",
    "    tracker_license.assign(username=user.username, entitlements=[\"tracker\"])"
   ]
  },
  {
   "cell_type": "markdown",
   "metadata": {},
   "source": [
    "### Create a new track view and add mobile users"
   ]
  },
  {
   "cell_type": "code",
   "execution_count": 5,
   "metadata": {},
   "outputs": [],
   "source": [
    "track_view = gis.admin.location_tracking.create_track_view(track_view_name)\n",
    "track_view.mobile_users.add(users)"
   ]
  },
  {
   "cell_type": "markdown",
   "metadata": {},
   "source": [
    "### Create a Track Viewer role if necessary\n",
    "In order to view other users tracks, track viewers need to have 2 specific privileges:\n",
    "- the ability to join a group\n",
    "- the ability to see others users tracks\n",
    "\n",
    "If a role titled \"Track Viewer\" does not exist, we'll create one."
   ]
  },
  {
   "cell_type": "code",
   "execution_count": 6,
   "metadata": {},
   "outputs": [],
   "source": [
    "for role in gis.users.roles.all():\n",
    "    if role.name.lower() == \"Track Viewer\".lower():\n",
    "        track_viewer_role = role\n",
    "        break\n",
    "else:\n",
    "    track_viewer_role = gis.users.roles.create(\n",
    "        name='Track Viewer',\n",
    "        description=\"A user that can use the Track Viewer web app to see others tracks\",\n",
    "        privileges=[\n",
    "            \"portal:user:joinGroup\",\n",
    "            \"portal:user:viewTracks\",\n",
    "        ]\n",
    "    )"
   ]
  },
  {
   "cell_type": "markdown",
   "metadata": {},
   "source": [
    "### Add Track Viewers\n",
    "We'll now add track viewers to the track view based on the \"Track Viewer\" column in the CSV file"
   ]
  },
  {
   "cell_type": "code",
   "execution_count": 7,
   "metadata": {},
   "outputs": [],
   "source": [
    "for index, row in df[df['Track Viewer'] == \"Yes\"].iterrows():\n",
    "    user = gis.users.get(row[\"Username\"])\n",
    "    if \"portal:user:joinGroup\" not in user.privileges or \"portal:user:viewTracks\" not in user.privileges:\n",
    "        user.update_role(track_viewer_role)\n",
    "    track_view.viewers.add(user)"
   ]
  },
  {
   "cell_type": "markdown",
   "metadata": {},
   "source": [
    "### Let's confirm everything is all set"
   ]
  },
  {
   "cell_type": "code",
   "execution_count": 8,
   "metadata": {},
   "outputs": [
    {
     "data": {
      "text/plain": [
       "['billdoe', 'johndoe', 'admin']"
      ]
     },
     "execution_count": 8,
     "metadata": {},
     "output_type": "execute_result"
    }
   ],
   "source": [
    "track_view.viewers.list()"
   ]
  },
  {
   "cell_type": "code",
   "execution_count": 9,
   "metadata": {},
   "outputs": [
    {
     "data": {
      "text/plain": [
       "['janedoe', 'johndoe', 'billdoe']"
      ]
     },
     "execution_count": 9,
     "metadata": {},
     "output_type": "execute_result"
    }
   ],
   "source": [
    "track_view.mobile_users.list()"
   ]
  },
  {
   "cell_type": "markdown",
   "metadata": {},
   "source": [
    "### Generate a QR code for quick sign in\n",
    "Finally, a QR code is generated which can be scanned by a mobile device to quickly sign into the Tracker app."
   ]
  },
  {
   "cell_type": "code",
   "execution_count": 10,
   "metadata": {},
   "outputs": [
    {
     "data": {
      "image/png": "[encoded data removed]",
      "text/plain": [
       "<IPython.core.display.Image object>"
      ]
     },
     "execution_count": 10,
     "metadata": {},
     "output_type": "execute_result"
    }
   ],
   "source": [
    "from IPython.core.display import Image\n",
    "url = pyqrcode.create(build_tracker_url(org))\n",
    "url.png(\"qr.png\", scale=6)\n",
    "Image(filename=\"qr.png\")"
   ]
  }
 ],
 "metadata": {
  "kernelspec": {
   "display_name": "Python 3",
   "language": "python",
   "name": "python3"
  },
  "language_info": {
   "codemirror_mode": {
    "name": "ipython",
    "version": 3
   },
   "file_extension": ".py",
   "mimetype": "text/x-python",
   "name": "python",
   "nbconvert_exporter": "python",
   "pygments_lexer": "ipython3",
   "version": "3.6.8"
  }
 },
 "nbformat": 4,
 "nbformat_minor": 2
}
