{
 "cells": [
  {
   "cell_type": "markdown",
   "metadata": {},
   "source": [
    "## Location Tracking Status\n",
    "A guide showing how to quickly view some details of the location tracking capability in your organization\n",
    "\n",
    "This guide assumes that:\n",
    "1. You are an administrator for your organization\n",
    "2. You are using Enterprise 10.7+\n",
    "3. You are running this with the latest version of the ArcGIS API for Python"
   ]
  },
  {
   "cell_type": "code",
   "execution_count": 1,
   "metadata": {},
   "outputs": [],
   "source": [
    "from arcgis.gis import GIS\n",
    "\n",
    "gis = GIS(\"https://server.domain.com/webadapter\", \"admin\", \"password\", verfiy_cert=False)\n",
    "lt = gis.admin.location_tracking"
   ]
  },
  {
   "cell_type": "markdown",
   "metadata": {},
   "source": [
    "### Check Current Status of Location Tracking\n",
    "Let's quickly check to see the status of location tracking for our organization"
   ]
  },
  {
   "cell_type": "code",
   "execution_count": 2,
   "metadata": {},
   "outputs": [
    {
     "name": "stdout",
     "output_type": "stream",
     "text": [
      "Status: enabled\n",
      "Retention Period: 30 DAYS (disabled)\n"
     ]
    }
   ],
   "source": [
    "print(f\"Status: {lt.status}\")\n",
    "print(f\"Retention Period: {lt.retention_period} {lt.retention_period_units} ({'enabled' if lt.retention_period_enabled else 'disabled'})\")"
   ]
  },
  {
   "cell_type": "markdown",
   "metadata": {},
   "source": [
    "### Check Licenses\n",
    "Let's see how many licenses have been assigned"
   ]
  },
  {
   "cell_type": "code",
   "execution_count": 3,
   "metadata": {},
   "outputs": [
    {
     "data": {
      "text/html": [
       "<div>\n",
       "<style scoped>\n",
       "    .dataframe tbody tr th:only-of-type {\n",
       "        vertical-align: middle;\n",
       "    }\n",
       "\n",
       "    .dataframe tbody tr th {\n",
       "        vertical-align: top;\n",
       "    }\n",
       "\n",
       "    .dataframe thead th {\n",
       "        text-align: right;\n",
       "    }\n",
       "</style>\n",
       "<table border=\"1\" class=\"dataframe\">\n",
       "  <thead>\n",
       "    <tr style=\"text-align: right;\">\n",
       "      <th></th>\n",
       "      <th>Entitlement</th>\n",
       "      <th>Total</th>\n",
       "      <th>Assigned</th>\n",
       "      <th>Remaining</th>\n",
       "    </tr>\n",
       "  </thead>\n",
       "  <tbody>\n",
       "    <tr>\n",
       "      <th>0</th>\n",
       "      <td>tracker</td>\n",
       "      <td>200</td>\n",
       "      <td>129</td>\n",
       "      <td>71</td>\n",
       "    </tr>\n",
       "  </tbody>\n",
       "</table>\n",
       "</div>"
      ],
      "text/plain": [
       "  Entitlement  Total  Assigned  Remaining\n",
       "0     tracker    200       129         71"
      ]
     },
     "execution_count": 3,
     "metadata": {},
     "output_type": "execute_result"
    }
   ],
   "source": [
    "gis.admin.license.get('Tracker for ArcGIS').report"
   ]
  },
  {
   "cell_type": "markdown",
   "metadata": {},
   "source": [
    "### Check Active Users\n",
    "Let's see how many people have actually recorded tracks"
   ]
  },
  {
   "cell_type": "code",
   "execution_count": 4,
   "metadata": {},
   "outputs": [
    {
     "name": "stdout",
     "output_type": "stream",
     "text": [
      "Users: 148\n"
     ]
    }
   ],
   "source": [
    "users = lt.tracks_layer.query(group_by_fields_for_statistics=\"created_user\", \n",
    "                              out_statistics=[{\"statisticType\": \"count\", \"onStatisticField\": \"objectid\", \"outStatisticFieldName\": \"count\"}],\n",
    "                              order_by=\"count\",\n",
    "                              as_df=True)\n",
    "print(f\"Users: {len(users)}\")"
   ]
  },
  {
   "cell_type": "markdown",
   "metadata": {},
   "source": [
    "Let's see who the top 5 users are (based on how many tracks points they have uploaded)"
   ]
  },
  {
   "cell_type": "code",
   "execution_count": 5,
   "metadata": {},
   "outputs": [
    {
     "data": {
      "text/html": [
       "<div>\n",
       "<style scoped>\n",
       "    .dataframe tbody tr th:only-of-type {\n",
       "        vertical-align: middle;\n",
       "    }\n",
       "\n",
       "    .dataframe tbody tr th {\n",
       "        vertical-align: top;\n",
       "    }\n",
       "\n",
       "    .dataframe thead th {\n",
       "        text-align: right;\n",
       "    }\n",
       "</style>\n",
       "<table border=\"1\" class=\"dataframe\">\n",
       "  <thead>\n",
       "    <tr style=\"text-align: right;\">\n",
       "      <th></th>\n",
       "      <th>count</th>\n",
       "      <th>created_user</th>\n",
       "    </tr>\n",
       "  </thead>\n",
       "  <tbody>\n",
       "    <tr>\n",
       "      <th>0</th>\n",
       "      <td>536228</td>\n",
       "      <td>apulver</td>\n",
       "    </tr>\n",
       "    <tr>\n",
       "      <th>1</th>\n",
       "      <td>424272</td>\n",
       "      <td>cgillgrass</td>\n",
       "    </tr>\n",
       "    <tr>\n",
       "      <th>2</th>\n",
       "      <td>383522</td>\n",
       "      <td>tmorey</td>\n",
       "    </tr>\n",
       "    <tr>\n",
       "      <th>3</th>\n",
       "      <td>267023</td>\n",
       "      <td>jshaner</td>\n",
       "    </tr>\n",
       "    <tr>\n",
       "      <th>4</th>\n",
       "      <td>247850</td>\n",
       "      <td>jwhitney</td>\n",
       "    </tr>\n",
       "  </tbody>\n",
       "</table>\n",
       "</div>"
      ],
      "text/plain": [
       "    count created_user\n",
       "0  536228      apulver\n",
       "1  424272      cgillgrass\n",
       "2  383522   tmorey\n",
       "3  267023      jshaner\n",
       "4  247850     jwhitney"
      ]
     },
     "execution_count": 5,
     "metadata": {},
     "output_type": "execute_result"
    }
   ],
   "source": [
    "users.head(5)"
   ]
  },
  {
   "cell_type": "markdown",
   "metadata": {},
   "source": [
    "Let's see who the top 5 users were during the last week"
   ]
  },
  {
   "cell_type": "code",
   "execution_count": 6,
   "metadata": {},
   "outputs": [
    {
     "data": {
      "text/html": [
       "<div>\n",
       "<style scoped>\n",
       "    .dataframe tbody tr th:only-of-type {\n",
       "        vertical-align: middle;\n",
       "    }\n",
       "\n",
       "    .dataframe tbody tr th {\n",
       "        vertical-align: top;\n",
       "    }\n",
       "\n",
       "    .dataframe thead th {\n",
       "        text-align: right;\n",
       "    }\n",
       "</style>\n",
       "<table border=\"1\" class=\"dataframe\">\n",
       "  <thead>\n",
       "    <tr style=\"text-align: right;\">\n",
       "      <th></th>\n",
       "      <th>count</th>\n",
       "      <th>created_user</th>\n",
       "    </tr>\n",
       "  </thead>\n",
       "  <tbody>\n",
       "    <tr>\n",
       "      <th>0</th>\n",
       "      <td>32894</td>\n",
       "      <td>apulver</td>\n",
       "    </tr>\n",
       "    <tr>\n",
       "      <th>1</th>\n",
       "      <td>19445</td>\n",
       "      <td>jshaner</td>\n",
       "    </tr>\n",
       "    <tr>\n",
       "      <th>2</th>\n",
       "      <td>9470</td>\n",
       "      <td>cgillgrass</td>\n",
       "    </tr>\n",
       "    <tr>\n",
       "      <th>3</th>\n",
       "      <td>9244</td>\n",
       "      <td>bszukalski</td>\n",
       "    </tr>\n",
       "    <tr>\n",
       "      <th>4</th>\n",
       "      <td>8282</td>\n",
       "      <td>igomez</td>\n",
       "    </tr>\n",
       "  </tbody>\n",
       "</table>\n",
       "</div>"
      ],
      "text/plain": [
       "   count         created_user\n",
       "0  32894              apulver\n",
       "1  19445           jshaner\n",
       "2   9470         cgillgrass\n",
       "3   9244  bszukalski\n",
       "4   8282        igomez"
      ]
     },
     "execution_count": 6,
     "metadata": {},
     "output_type": "execute_result"
    }
   ],
   "source": [
    "from datetime import datetime, timedelta\n",
    "d = datetime.utcnow()-timedelta(days=7)\n",
    "users = lt.tracks_layer.query(where=f\"location_timestamp >= timestamp '{d.strftime('%Y-%m-%d %H:%M:%S')}'\",\n",
    "                              group_by_fields_for_statistics=\"created_user\", \n",
    "                              out_statistics=[{\"statisticType\": \"count\", \"onStatisticField\": \"objectid\", \"outStatisticFieldName\": \"count\"}],\n",
    "                              order_by=\"count\",\n",
    "                              as_df=True)\n",
    "users.head(5)"
   ]
  },
  {
   "cell_type": "markdown",
   "metadata": {},
   "source": [
    "### Check total number of tracks\n",
    "Let's see how many tracks are available"
   ]
  },
  {
   "cell_type": "code",
   "execution_count": 7,
   "metadata": {},
   "outputs": [
    {
     "name": "stdout",
     "output_type": "stream",
     "text": [
      "Total Tracks: 4,629,564\n"
     ]
    }
   ],
   "source": [
    "count = lt.tracks_layer.query(return_count_only=True)\n",
    "print(f\"Total Tracks: {count:,}\")"
   ]
  },
  {
   "cell_type": "markdown",
   "metadata": {},
   "source": [
    "### Check number of track views\n",
    "Let's see how many track views are in my organization"
   ]
  },
  {
   "cell_type": "code",
   "execution_count": 8,
   "metadata": {},
   "outputs": [
    {
     "name": "stdout",
     "output_type": "stream",
     "text": [
      "Track Views: 10\n"
     ]
    }
   ],
   "source": [
    "items = gis.content.search(\"typekeywords:'Location Tracking View'\")\n",
    "print(f\"Track Views: {len(items)}\")"
   ]
  }
 ],
 "metadata": {
  "kernelspec": {
   "display_name": "Python 3",
   "language": "python",
   "name": "python3"
  },
  "language_info": {
   "codemirror_mode": {
    "name": "ipython",
    "version": 3
   },
   "file_extension": ".py",
   "mimetype": "text/x-python",
   "name": "python",
   "nbconvert_exporter": "python",
   "pygments_lexer": "ipython3",
   "version": "3.6.8"
  }
 },
 "nbformat": 4,
 "nbformat_minor": 2
}
