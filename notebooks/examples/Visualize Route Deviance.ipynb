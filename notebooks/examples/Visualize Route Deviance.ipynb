{
 "cells": [
  {
   "cell_type": "markdown",
   "metadata": {},
   "source": [
    "# Visualize Route Deviance\n",
    "\n",
    "As a dispatcher, I may want to verify that my Tracker users are following routes that I have laid out for them. For example, I could have given them a preplanned route using Navigator for ArcGIS - and want to ensure that to go between point A and point B, that they used that route for their safety. This notebook takes a route layer input, a track view, and returns whether or not the user followed the preplanned route. If they have not, it will return a map visualizing the area where the user did not follow the preplanned route. Note that you should have the \"view location tracks\" privilege to use this notebook."
   ]
  },
  {
   "cell_type": "code",
   "execution_count": 398,
   "metadata": {},
   "outputs": [],
   "source": [
    "# import modules\n",
    "import json\n",
    "import pendulum\n",
    "import arcgis\n",
    "from arcgis.gis import GIS\n",
    "from arcgis.apps.tracker import TrackView\n",
    "from arcgis.features import FeatureLayerCollection, FeatureLayer, FeatureSet\n",
    "import pandas\n",
    "from arcgis.geometry import Polyline\n",
    "import sys"
   ]
  },
  {
   "cell_type": "markdown",
   "metadata": {},
   "source": [
    "## Connect to GIS and extract our route layers\n",
    "\n",
    "Let's get our saved route layer using the portal item id. For this notebook, we'll be navigating between the Portland Public Library and the Portland International Jetport. Here, we set the username we're both logging in with and we want to query, the default buffer distance (i.e. if a point is within this number, it will be \"on\" the route), the default basemap we'd like to use, and the default map center."
   ]
  },
  {
   "cell_type": "code",
   "execution_count": 399,
   "metadata": {},
   "outputs": [
    {
     "name": "stdout",
     "output_type": "stream",
     "text": [
      "Enter password: ········\n"
     ]
    }
   ],
   "source": [
    "# Same username used for querying track data\n",
    "username = \"tracker1admin\"\n",
    "buffer_distance = \"150\" # set as string, not int\n",
    "default_basemap = 'streets-night-vector'\n",
    "default_map_center = [43.656247, -70.285417]\n",
    "\n",
    "# Login, return layers\n",
    "gis = GIS(\"https://devext.arcgis.com\", username, verify_cert=False)\n",
    "route_item = gis.content.get(\"3e05069b63264e78854d8d68362554f6\")\n",
    "route_layers = route_item.layers"
   ]
  },
  {
   "cell_type": "markdown",
   "metadata": {},
   "source": [
    "## Visualize route feature collection\n",
    "\n",
    "Now that we have our layers loaded, let's visualize it using the built in Jupyter notebook map widget. We put some custom visualization on our route layer in the portal just to make it look a little better."
   ]
  },
  {
   "cell_type": "code",
   "execution_count": 400,
   "metadata": {},
   "outputs": [
    {
     "data": {
      "application/vnd.jupyter.widget-view+json": {
       "model_id": "5548276569ca4aa594afb5a2ec85e8b8",
       "version_major": 2,
       "version_minor": 0
      },
      "text/plain": [
       "MapView(layout=Layout(height='400px', width='100%'), zoom=13.0)"
      ]
     },
     "metadata": {},
     "output_type": "display_data"
    },
    {
     "data": {
      "text/html": [
       "<div class=\"map-static-img-preview-0d2dba53-9c34-4df5-808c-51a994136cf5\"><img src=\"\"></img></div>"
      ],
      "text/plain": [
       "<IPython.core.display.HTML object>"
      ]
     },
     "metadata": {},
     "output_type": "display_data"
    }
   ],
   "source": [
    "map1 = gis.map(zoomlevel=13)\n",
    "map1.center = default_map_center\n",
    "map1.basemap = default_basemap\n",
    "for layer in route_layers:\n",
    "    map1.add_layer(layer)\n",
    "map1"
   ]
  },
  {
   "cell_type": "markdown",
   "metadata": {},
   "source": [
    "## Visualize track data\n",
    "\n",
    "Using times in UTC, let's now query all of our tracks between a start and end time and visualize those. "
   ]
  },
  {
   "cell_type": "code",
   "execution_count": 401,
   "metadata": {},
   "outputs": [
    {
     "data": {
      "application/vnd.jupyter.widget-view+json": {
       "model_id": "cb614db48a424db893281f922bcaa163",
       "version_major": 2,
       "version_minor": 0
      },
      "text/plain": [
       "MapView(layout=Layout(height='400px', width='100%'), zoom=12.0)"
      ]
     },
     "metadata": {},
     "output_type": "display_data"
    },
    {
     "data": {
      "text/html": [
       "<div class=\"map-static-img-preview-18d3b8ab-2e41-475a-813c-975194b34f49\"><img src=\"\"></img></div>"
      ],
      "text/plain": [
       "<IPython.core.display.HTML object>"
      ]
     },
     "metadata": {},
     "output_type": "display_data"
    }
   ],
   "source": [
    "# Filter tracks data by date\n",
    "start_date_utc = \"2020-02-13 01:10:00\"\n",
    "end_date_utc = \"2020-02-13 11:10:00\"\n",
    "tracks_layer = TrackView(gis.content.get(\"39cc476e2dea4d24ba59f26e671fb621\")).tracks_layer\n",
    "where_clause = f\"created_user='{username}' AND location_timestamp > timestamp '{start_date_utc}' AND location_timestamp < timestamp '{end_date_utc}'\"\n",
    "tracks_layer.filter = where_clause\n",
    "\n",
    "# Display map 2 - new map object used to get around Jupyter notebook bug\n",
    "map2 = gis.map(zoomlevel=12)\n",
    "map2.center = default_map_center\n",
    "map2.basemap = default_basemap\n",
    "map2.add_layer(tracks_layer, {\"renderer\":{\"type\":\"simple\",\"symbol\":{\"color\":[0,255,255,255],\"size\":5,\"type\":\"esriSMS\",\"style\":\"esriSMSCircle\"}}})\n",
    "map2"
   ]
  },
  {
   "cell_type": "markdown",
   "metadata": {},
   "source": [
    "## Identify potential \"end of route\" track points\n",
    "\n",
    "As you can see above, there was clearly some deviance in the western part of the map between the prescribed route and the tracks - when the user went to the airport parking lot. However, filtering solely by time wasn't good enough; we got some tracks from the previous night, when we weren't on the preplanned route. Let's instead perform this query by filtering of tracks using geometry intersectiosn; we identify track points that intersect with the start and stop features and then return all points in between those two. "
   ]
  },
  {
   "cell_type": "code",
   "execution_count": 402,
   "metadata": {},
   "outputs": [
    {
     "data": {
      "application/vnd.jupyter.widget-view+json": {
       "model_id": "e0c6f01bb4bf4b15b334ab5a70dc805e",
       "version_major": 2,
       "version_minor": 0
      },
      "text/plain": [
       "MapView(layout=Layout(height='400px', width='100%'), zoom=17.0)"
      ]
     },
     "metadata": {},
     "output_type": "display_data"
    },
    {
     "data": {
      "text/html": [
       "<div class=\"map-static-img-preview-c9a9d1ba-dcae-446d-b1da-6a1746d666c7\"><img src=\"\"></img></div>"
      ],
      "text/plain": [
       "<IPython.core.display.HTML object>"
      ]
     },
     "metadata": {},
     "output_type": "display_data"
    }
   ],
   "source": [
    "tracks_layer.filter = None\n",
    "stop_layer = route_layers[3]\n",
    "points = []\n",
    "\n",
    "# Convert stop features into list of Point objects\n",
    "for feature in stop_layer.query().features:\n",
    "    points.append(arcgis.geometry.Point(json.dumps(feature.geometry)))\n",
    "buffered_points = arcgis.geometry.buffer(geometries=points,in_sr=102100,distances=buffer_distance,unit=9001,out_sr=4326)\n",
    "stop_filter = arcgis.geometry.filters.intersects(buffered_points[1], sr=4326)\n",
    "\n",
    "# Check which track points intersect stop features\n",
    "end_tracks = tracks_layer.query(where=where_clause, geometry_filter=stop_filter, order_by_fields=\"location_timestamp ASC\")\n",
    "if len(end_tracks) == 0:\n",
    "    sys.exit(\"User did not get near the end of the route in the given time period!\")\n",
    "\n",
    "# Display end of route track points\n",
    "map3 = gis.map(zoomlevel=17)\n",
    "map3.center = end_tracks.features[0].geometry\n",
    "map3.basemap = default_basemap\n",
    "map3.add_layer(end_tracks)\n",
    "map3\n"
   ]
  },
  {
   "cell_type": "code",
   "execution_count": 403,
   "metadata": {},
   "outputs": [],
   "source": [
    "start_filter = arcgis.geometry.filters.intersects(buffered_points[0], sr=4326)\n",
    "start_tracks = tracks_layer.query(where=where_clause, geometry_filter=start_filter, order_by_fields=\"location_timestamp DESC\")\n",
    "if len(start_tracks) == 0:\n",
    "    sys.exit(\"User did not get near the start of the route in the given time period!\")\n",
    "start_date = pendulum.from_timestamp(int(start_tracks.features[0].attributes[\"location_timestamp\"])/1000)\n",
    "end_date = pendulum.from_timestamp(int(end_tracks.features[0].attributes[\"location_timestamp\"])/1000)"
   ]
  },
  {
   "cell_type": "markdown",
   "metadata": {},
   "source": [
    "## Identify tracks used while traversing route\n",
    "\n",
    "Now, using the \"start\" date of the route and the \"end\" date of the route, we return all the track points that were captured moving between point A and point B."
   ]
  },
  {
   "cell_type": "code",
   "execution_count": 404,
   "metadata": {},
   "outputs": [
    {
     "name": "stdout",
     "output_type": "stream",
     "text": [
      "Start of Tracks: 2020-02-13 03:08:16, End of Tracks: 2020-02-13 09:48:13\n"
     ]
    }
   ],
   "source": [
    "start_timestamp = start_date.strftime(\"%Y-%m-%d %H:%M:%S\")\n",
    "end_timestamp = end_date.strftime(\"%Y-%m-%d %H:%M:%S\")\n",
    "print(\"Start of Tracks: \" + start_timestamp + \", End of Tracks: \" + end_timestamp)\n",
    "where_clause = f\"created_user='{username}' AND location_timestamp > timestamp '{start_timestamp}' AND location_timestamp < timestamp '{end_timestamp}'\"\n",
    "route_tracks = tracks_layer.query(where=where_clause)\n",
    "route_points = []\n",
    "for feature in route_tracks.features:\n",
    "    route_points.append(arcgis.geometry.Point(json.dumps(feature.geometry)))\n"
   ]
  },
  {
   "cell_type": "markdown",
   "metadata": {},
   "source": [
    "## Identify deviant points\n",
    "\n",
    "Finally, we check if each of these track points is on the route, using a buffer distance of 100m, and return only the ones that are not on the route. The points returned in a FeatureSet can now be exported to a layer."
   ]
  },
  {
   "cell_type": "code",
   "execution_count": 405,
   "metadata": {},
   "outputs": [
    {
     "data": {
      "application/vnd.jupyter.widget-view+json": {
       "model_id": "ad84eb3ada2743ba96fc925a618308fe",
       "version_major": 2,
       "version_minor": 0
      },
      "text/plain": [
       "MapView(layout=Layout(height='400px', width='100%'), zoom=12.0)"
      ]
     },
     "metadata": {},
     "output_type": "display_data"
    },
    {
     "data": {
      "text/html": [
       "<div class=\"map-static-img-preview-321d6e7b-b1d9-482b-91b9-16ff44700cb6\"><img src=\"\"></img></div>"
      ],
      "text/plain": [
       "<IPython.core.display.HTML object>"
      ]
     },
     "metadata": {},
     "output_type": "display_data"
    }
   ],
   "source": [
    "line_layer = route_layers[0]\n",
    "line_geom = Polyline(line_layer.query().features[0].geometry)\n",
    "buffered_line_geom = arcgis.geometry.buffer(geometries=[line_geom], in_sr=102100, distances=buffer_distance, out_sr=4326, unit=9001, geodesic=True)\n",
    "new_features = []\n",
    "for feature in route_tracks.features:\n",
    "    point = arcgis.geometry.Point(json.dumps(feature.geometry))\n",
    "    point_on_route = point.within(buffered_line_geom[0])\n",
    "    if not point_on_route:\n",
    "        new_features.append(feature)\n",
    "\n",
    "if len(new_features) == 0:\n",
    "    sys.exit(\"User did not deviate from route!\")\n",
    "route_tracks._features = new_features\n",
    "map4 = gis.map(zoomlevel=12)\n",
    "map4.center = default_map_center\n",
    "map4.basemap = default_basemap\n",
    "map4.add_layer(route_layers[1])\n",
    "map4.add_layer(route_tracks)\n",
    "map4\n",
    "\n",
    "# TODO: resymbolize these points"
   ]
  }
 ],
 "metadata": {
  "kernelspec": {
   "display_name": "Python 3",
   "language": "python",
   "name": "python3"
  },
  "language_info": {
   "codemirror_mode": {
    "name": "ipython",
    "version": 3
   },
   "file_extension": ".py",
   "mimetype": "text/x-python",
   "name": "python",
   "nbconvert_exporter": "python",
   "pygments_lexer": "ipython3",
   "version": "3.6.8"
  }
 },
 "nbformat": 4,
 "nbformat_minor": 4
}
